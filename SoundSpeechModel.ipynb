{
 "cells": [
  {
   "cell_type": "code",
   "execution_count": 1,
   "outputs": [],
   "source": [
    "from transformers import AutoProcessor, AutoModelForSpeechSeq2Seq\n",
    "from datasets import Dataset, Audio"
   ],
   "metadata": {
    "collapsed": false
   }
  },
  {
   "cell_type": "markdown",
   "source": [
    "## Load the transformer's model and the whisper processor\n",
    "In particular, we use a transformer and a Whisper processor that have 2 functions:\n",
    "- Pre-process the audio inputs (converting them to log-Mel spectrograms for the model)\n",
    "- Post-process the model outputs (converting them from tokens to text)"
   ],
   "metadata": {
    "collapsed": false
   }
  },
  {
   "cell_type": "code",
   "execution_count": 2,
   "outputs": [],
   "source": [
    "processor = AutoProcessor.from_pretrained(\"openai/whisper-base\")\n",
    "model = AutoModelForSpeechSeq2Seq.from_pretrained(\"openai/whisper-base\")"
   ],
   "metadata": {
    "collapsed": false
   }
  },
  {
   "cell_type": "markdown",
   "source": [
    "## Creation of an audio dataset from local files in recordings folder\n",
    "Despite normally a spectrogram works with a range of values between 40 kHz - 44 kHz, the model accepts only a sampling rate of 16 kHz"
   ],
   "metadata": {
    "collapsed": false
   }
  },
  {
   "cell_type": "code",
   "execution_count": 3,
   "outputs": [],
   "source": [
    "audio_dataset = Dataset.from_dict({\"audio\": [\"recordings/Prova.wav\", \"recordings/prova2.wav\"]}).cast_column(\"audio\", Audio(sampling_rate=16000))\n",
    "\n",
    "my_audio = audio_dataset[1]['audio']"
   ],
   "metadata": {
    "collapsed": false
   }
  },
  {
   "cell_type": "code",
   "execution_count": 4,
   "outputs": [
    {
     "data": {
      "text/plain": "{'path': 'recordings/prova2.wav',\n 'array': array([-0.00340922, -0.00526658, -0.00676686, ..., -0.00095332,\n        -0.00131988,  0.        ], dtype=float32),\n 'sampling_rate': 16000}"
     },
     "execution_count": 4,
     "metadata": {},
     "output_type": "execute_result"
    }
   ],
   "source": [
    "my_audio"
   ],
   "metadata": {
    "collapsed": false
   }
  },
  {
   "cell_type": "markdown",
   "source": [
    "## Creation of the input features from the audio sample\n",
    "The input features are passed to the model, which will convert them into token ids.\n",
    "We're forcing the model to transcribe the audio to italian language.\n",
    "The decoder, then, will decode the token ids to text."
   ],
   "metadata": {
    "collapsed": false
   }
  },
  {
   "cell_type": "code",
   "execution_count": 5,
   "outputs": [],
   "source": [
    "# processor is a variable, but called as processor() indicates the magic method \"__call__\" is called\n",
    "input_features = processor(my_audio['array'], sampling_rate=my_audio['sampling_rate'], return_tensors='pt').input_features"
   ],
   "metadata": {
    "collapsed": false
   }
  },
  {
   "cell_type": "code",
   "execution_count": 6,
   "outputs": [],
   "source": [
    "forced_decoder_ids = processor.get_decoder_prompt_ids(language='italian', task='transcribe')"
   ],
   "metadata": {
    "collapsed": false
   }
  },
  {
   "cell_type": "code",
   "execution_count": 7,
   "outputs": [
    {
     "name": "stderr",
     "output_type": "stream",
     "text": [
      "C:\\Users\\Authority\\Desktop\\AudioSpeechModel\\venv\\lib\\site-packages\\transformers\\generation\\utils.py:1273: UserWarning: Neither `max_length` nor `max_new_tokens` has been set, `max_length` will default to 448 (`generation_config.max_length`). Controlling `max_length` via the config is deprecated and `max_length` will be removed from the config in v5 of Transformers -- we recommend using `max_new_tokens` to control the maximum length of the generation.\n",
      "  warnings.warn(\n"
     ]
    }
   ],
   "source": [
    "predicted_ids = model.generate(input_features, forced_decoder_ids=forced_decoder_ids)"
   ],
   "metadata": {
    "collapsed": false
   }
  },
  {
   "cell_type": "code",
   "execution_count": 8,
   "outputs": [
    {
     "data": {
      "text/plain": "[\"<|startoftranscript|><|it|><|transcribe|><|notimestamps|> Le leggi sono le condizioni con le quali uomini indipendenti ed isolati suonirono in società, stanchi di vivere in un contino stato di guerra e di godere una libertà reesa inutile dall'incertezza di conservarla. Essine sacrificare una parte per goderni il restante consigurezza e tranquillità.<|endoftext|>\"]"
     },
     "execution_count": 8,
     "metadata": {},
     "output_type": "execute_result"
    }
   ],
   "source": [
    "transcription = processor.batch_decode(predicted_ids, skip_special_tokens=False)\n",
    "transcription"
   ],
   "metadata": {
    "collapsed": false
   }
  },
  {
   "cell_type": "code",
   "execution_count": 9,
   "outputs": [
    {
     "data": {
      "text/plain": "[\" Le leggi sono le condizioni con le quali uomini indipendenti ed isolati suonirono in società, stanchi di vivere in un contino stato di guerra e di godere una libertà reesa inutile dall'incertezza di conservarla. Essine sacrificare una parte per goderni il restante consigurezza e tranquillità.\"]"
     },
     "execution_count": 9,
     "metadata": {},
     "output_type": "execute_result"
    }
   ],
   "source": [
    "transcription_no_special_tokens = processor.batch_decode(predicted_ids, skip_special_tokens=True)\n",
    "transcription_no_special_tokens"
   ],
   "metadata": {
    "collapsed": false
   }
  }
 ],
 "metadata": {
  "kernelspec": {
   "display_name": "Python 3",
   "language": "python",
   "name": "python3"
  },
  "language_info": {
   "codemirror_mode": {
    "name": "ipython",
    "version": 2
   },
   "file_extension": ".py",
   "mimetype": "text/x-python",
   "name": "python",
   "nbconvert_exporter": "python",
   "pygments_lexer": "ipython2",
   "version": "2.7.6"
  }
 },
 "nbformat": 4,
 "nbformat_minor": 0
}
